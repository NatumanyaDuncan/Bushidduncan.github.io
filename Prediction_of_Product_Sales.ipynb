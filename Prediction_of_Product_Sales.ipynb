{
  "nbformat": 4,
  "nbformat_minor": 0,
  "metadata": {
    "colab": {
      "provenance": [],
      "authorship_tag": "ABX9TyNstSdkKNvlgW/JWIIlK3Pl",
      "include_colab_link": true
    },
    "kernelspec": {
      "name": "python3",
      "display_name": "Python 3"
    },
    "language_info": {
      "name": "python"
    }
  },
  "cells": [
    {
      "cell_type": "markdown",
      "metadata": {
        "id": "view-in-github",
        "colab_type": "text"
      },
      "source": [
        "<a href=\"https://colab.research.google.com/github/NatumanyaDuncan/FRIENDS.github.io/blob/master/Prediction_of_Product_Sales.ipynb\" target=\"_parent\"><img src=\"https://colab.research.google.com/assets/colab-badge.svg\" alt=\"Open In Colab\"/></a>"
      ]
    },
    {
      "cell_type": "markdown",
      "source": [
        "# Project Title: (Prediction of Product Sales).\n",
        "- Author: NATUMANYA DUNCAN"
      ],
      "metadata": {
        "id": "4LD1HS_ngD2b"
      }
    },
    {
      "cell_type": "markdown",
      "source": [
        "## \"Project Overview\""
      ],
      "metadata": {
        "id": "kg2JQiV9ga8z"
      }
    },
    {
      "cell_type": "code",
      "source": [],
      "metadata": {
        "id": "8bOMzhMogzkF"
      },
      "execution_count": null,
      "outputs": []
    },
    {
      "cell_type": "markdown",
      "source": [
        "## \"Load and Inspect Data\""
      ],
      "metadata": {
        "id": "DnYjlkgXgjNM"
      }
    },
    {
      "cell_type": "code",
      "source": [],
      "metadata": {
        "id": "JD3X8-8_g0MX"
      },
      "execution_count": null,
      "outputs": []
    },
    {
      "cell_type": "markdown",
      "source": [
        "## \"Clean Data\""
      ],
      "metadata": {
        "id": "aO5f8A-KgkKM"
      }
    },
    {
      "cell_type": "code",
      "source": [],
      "metadata": {
        "id": "mB1feTdUg00P"
      },
      "execution_count": null,
      "outputs": []
    },
    {
      "cell_type": "markdown",
      "source": [
        "## \"Exploratory Data Analysis\""
      ],
      "metadata": {
        "id": "baSwD1vCgngN"
      }
    },
    {
      "cell_type": "code",
      "source": [],
      "metadata": {
        "id": "jvxyk3g-g1UW"
      },
      "execution_count": null,
      "outputs": []
    },
    {
      "cell_type": "markdown",
      "source": [
        "## \"Feature Inspection\""
      ],
      "metadata": {
        "id": "D-yU4QC5gqdG"
      }
    },
    {
      "cell_type": "code",
      "source": [],
      "metadata": {
        "id": "WwdX4MCQg17N"
      },
      "execution_count": null,
      "outputs": []
    },
    {
      "cell_type": "markdown",
      "source": [],
      "metadata": {
        "id": "67iRt_gYgt0q"
      }
    }
  ]
}